{
 "cells": [
  {
   "cell_type": "code",
   "execution_count": 1,
   "id": "0e1e25bf",
   "metadata": {},
   "outputs": [],
   "source": [
    "# importing required libraries\n",
    "import numpy as np\n",
    "from sklearn.feature_extraction.text import TfidfTransformer\n",
    "from sklearn.metrics.pairwise import cosine_similarity\n",
    "from sklearn.feature_extraction.text import CountVectorizer\n",
    "from nltk.corpus import stopwords"
   ]
  },
  {
   "cell_type": "code",
   "execution_count": 2,
   "id": "2553d6ee",
   "metadata": {},
   "outputs": [],
   "source": [
    "# loading dataset\n",
    "import ast\n",
    "questions = []\n",
    "answers = []\n",
    "\n",
    "with open('qa_Electronics.json', 'r') as file:\n",
    "    for line in file:\n",
    "        data = ast.literal_eval(line)\n",
    "        questions.append(data['question'].lower())\n",
    "        answers.append(data['answer'].lower())     "
   ]
  },
  {
   "cell_type": "code",
   "execution_count": 3,
   "id": "b393e028",
   "metadata": {},
   "outputs": [
    {
     "name": "stdout",
     "output_type": "stream",
     "text": [
      "Question : can you mount a sound bar using the external \"stick\" arms vertically hanging below the lcd monitor (27 inch)?\n",
      "Answer : yes, i can but need sound bar mount.\n"
     ]
    }
   ],
   "source": [
    "print(\"Question :\",questions[11])\n",
    "print(\"Answer :\", answers[11])"
   ]
  },
  {
   "cell_type": "code",
   "execution_count": 4,
   "id": "245bcd17",
   "metadata": {},
   "outputs": [],
   "source": [
    "# removing stop words\n",
    "\n",
    "def stopwords_removal(corpus):\n",
    "    corpus = [word for word in corpus if not word in set(stopwords.words(\"english\"))]\n",
    "    return corpus"
   ]
  },
  {
   "cell_type": "code",
   "execution_count": 5,
   "id": "b6e368a9",
   "metadata": {},
   "outputs": [],
   "source": [
    "# questions = stopwords_removal(questions)\n",
    "# print(\"Question :\",questions[11])"
   ]
  },
  {
   "cell_type": "code",
   "execution_count": 6,
   "id": "987a81b9",
   "metadata": {},
   "outputs": [],
   "source": [
    "# tokenize the text and convert data in matrix format\n",
    "\n",
    "vectorizer = CountVectorizer(stop_words='english')\n",
    "X_vec = vectorizer.fit_transform(questions)"
   ]
  },
  {
   "cell_type": "code",
   "execution_count": 7,
   "id": "e453f74e",
   "metadata": {},
   "outputs": [],
   "source": [
    "# Transform data by applying the TF-IDF\n",
    "\n",
    "tfidf = TfidfTransformer() # by default applies \"l2\" normalization\n",
    "X_tfidf = tfidf.fit_transform(X_vec)"
   ]
  },
  {
   "cell_type": "code",
   "execution_count": 8,
   "id": "74d23109",
   "metadata": {},
   "outputs": [],
   "source": [
    "from sklearn.metrics.pairwise import cosine_similarity\n",
    "\n",
    "def conversation(im):\n",
    "    global tfidf, answers, X_tfidf\n",
    "    Y_vec = vectorizer.transform(im)\n",
    "    Y_tfidf = tfidf.fit_transform(Y_vec)\n",
    "    cos_sim = np.rad2deg(np.arccos(max(cosine_similarity(Y_tfidf, X_tfidf)[0])))\n",
    "    \n",
    "    if cos_sim > 60:\n",
    "        return \"sorry, I did not quite understand that\"\n",
    "    else:\n",
    "        return answers[np.argmax(cosine_similarity(Y_tfidf, X_tfidf)[0])]"
   ]
  },
  {
   "cell_type": "code",
   "execution_count": 9,
   "id": "ce64ed24",
   "metadata": {},
   "outputs": [],
   "source": [
    "def main():\n",
    "    user = input(\"Please enter your username: \")\n",
    "    print(\"support: Hi, welcome to Q&A support. How can I help you?\")\n",
    "    \n",
    "    while True:\n",
    "        im = input(\"{}: \".format(user))\n",
    "        if im.lower() == 'bye':\n",
    "            print(\"Q&A support: bye!\")\n",
    "            break\n",
    "        else:\n",
    "            print(\"Q&A support: \"+conversation([im]))"
   ]
  },
  {
   "cell_type": "code",
   "execution_count": null,
   "id": "3bb6a59f",
   "metadata": {},
   "outputs": [
    {
     "name": "stdout",
     "output_type": "stream",
     "text": [
      "Please enter your username: gc\n",
      "support: Hi, welcome to Q&A support. How can I help you?\n",
      "gc: My laptop would not start\n",
      "Q&A support: hi, you may get you laptop in 3 to 5 business day depending on you location. thanks for you interest. tech mark.\n",
      "gc: Wow! does that mean it is covered under replacement warranty?\n",
      "Q&A support: sorry i forgot if it has, but it works well in my laptop, luckily, i can't find any dead point in this screen.\n",
      "gc: That does not make any sense\n",
      "Q&A support: it is a power supply and does nothing to make it a tv, just sends power to it.\n",
      "gc: You are a moron\n",
      "Q&A support: sorry, I did not quite understand that\n"
     ]
    }
   ],
   "source": [
    "main()"
   ]
  },
  {
   "cell_type": "code",
   "execution_count": null,
   "id": "6b016a57",
   "metadata": {},
   "outputs": [],
   "source": []
  }
 ],
 "metadata": {
  "kernelspec": {
   "display_name": "tf-gpu-25",
   "language": "python",
   "name": "tf-gpu-25"
  },
  "language_info": {
   "codemirror_mode": {
    "name": "ipython",
    "version": 3
   },
   "file_extension": ".py",
   "mimetype": "text/x-python",
   "name": "python",
   "nbconvert_exporter": "python",
   "pygments_lexer": "ipython3",
   "version": "3.9.5"
  }
 },
 "nbformat": 4,
 "nbformat_minor": 5
}
